{
 "cells": [
  {
   "cell_type": "code",
   "execution_count": 20,
   "metadata": {},
   "outputs": [],
   "source": [
    "''' Generates csv with mean and standard deviation of potential crack\n",
    " intensities and gradients'''\n",
    "\n",
    "# Setup\n",
    "import csv\n",
    "import pandas as pd\n",
    "import numpy as np\n",
    "import cv2\n",
    "import matplotlib.pyplot as plt"
   ]
  },
  {
   "cell_type": "code",
   "execution_count": 9,
   "metadata": {},
   "outputs": [],
   "source": [
    "# Dataset Load function\n",
    "# Selects and greyscales 100 negative and positive images\n",
    "def get_train_data(nsamples=100):\n",
    "\n",
    "    data_pos = [cv2.cvtColor(cv2.imread(\"/Users/jonasvejlgardkristensen/Documents/Datasets/concrete_all/Positive/{0:05d}.jpg\".format(np.random.randint(1,10000))), cv2.COLOR_BGR2GRAY) for i in range(nsamples)]\n",
    "\n",
    "    data_neg = [cv2.cvtColor(cv2.imread(\"/Users/jonasvejlgardkristensen/Documents/Datasets/concrete_all/Negative/{0:05d}.jpg\".format(np.random.randint(1,20000))), cv2.COLOR_BGR2GRAY) for i in range(nsamples)]\n",
    "\n",
    "    return data_pos, data_neg"
   ]
  },
  {
   "cell_type": "code",
   "execution_count": 22,
   "metadata": {},
   "outputs": [],
   "source": [
    "# Calculates and returns mean and standard deviation for all images.\n",
    "def mean_int(im, im_bin, key):\n",
    "    (h,w) = im.shape\n",
    "    (mean, stdev) = (0, 0)\n",
    "    vals = []\n",
    "    for i in range(h):\n",
    "        for j in range(w):\n",
    "            if im_bin[i,j] == key:\n",
    "                vals.append(im[i,j])\n",
    "                \n",
    "    mean = sum(vals) / len(vals)   \n",
    "    try:\n",
    "        stdev = sum([abs(x - mean) for x in vals]) / len(vals)\n",
    "    except ZeroDivisionError:\n",
    "        stdev = 'NaN'\n",
    "\n",
    "    return mean, stdev"
   ]
  },
  {
   "cell_type": "code",
   "execution_count": 11,
   "metadata": {},
   "outputs": [],
   "source": [
    "SAMPLE_SIZE = 100\n",
    "pos, neg = get_train_data(SAMPLE_SIZE)"
   ]
  },
  {
   "cell_type": "code",
   "execution_count": 12,
   "metadata": {},
   "outputs": [],
   "source": [
    "# PIPELINE: \n",
    "# Linear Grayscale -> Otsu's method + Inv. binary threshold (0, 255) -> Erosion (7x7)\n",
    "\n",
    "blur_pos = [cv2.GaussianBlur(pos[i], (7, 7), 0) for i in range(SAMPLE_SIZE)]\n",
    "out = [cv2.threshold(blur_pos[i], 0, 255, cv2.THRESH_BINARY+cv2.THRESH_OTSU) for i in range(SAMPLE_SIZE)]\n",
    "\n",
    "thres_val_pos = [out[i][0] for i in range(SAMPLE_SIZE)]\n",
    "thresh_pos = [np.bitwise_not(out[i][1]) for i in range(SAMPLE_SIZE)]\n",
    "\n",
    "blur_neg = [cv2.GaussianBlur(neg[i], (7, 7), 0) for i in range(SAMPLE_SIZE)]\n",
    "out = [cv2.threshold(blur_neg[i], 0, 255, cv2.THRESH_BINARY+cv2.THRESH_OTSU) for i in range(SAMPLE_SIZE)]\n",
    "\n",
    "thres_val_neg = [out[i][0] for i in range(SAMPLE_SIZE)]\n",
    "thresh_neg = [np.bitwise_not(out[i][1]) for i in range(SAMPLE_SIZE)]\n",
    "\n",
    "kernel = np.ones((7, 7), np.uint8)\n",
    "erosion_pos = [cv2.erode(thresh_pos[i], kernel, iterations=1) for i in range(SAMPLE_SIZE)]\n",
    "erosion_neg = [cv2.erode(thresh_neg[i], kernel, iterations=1) for i in range(SAMPLE_SIZE)]"
   ]
  },
  {
   "cell_type": "code",
   "execution_count": 6,
   "metadata": {},
   "outputs": [],
   "source": [
    "intens_mean_pos = []\n",
    "intens_std_pos = []\n",
    "intens_mean_neg = []\n",
    "intens_std_neg = []\n",
    "\n",
    "for i in range(SAMPLE_SIZE):\n",
    "    # Positive\n",
    "    m, st = mean_int(pos[i], erosion_pos[i], 255)\n",
    "    intens_mean_pos.append(m)\n",
    "    intens_std_pos.append(st)\n",
    "    \n",
    "    # Negative\n",
    "    m, st = mean_int(neg[i], erosion_neg[i], 255)\n",
    "    intens_mean_neg.append(m)\n",
    "    intens_std_neg.append(st)\n",
    "\n",
    "result_mean = np.concatenate((intens_mean_pos, intens_mean_neg),0)\n",
    "result_stdev = np.concatenate((intens_std_pos, intens_std_neg),0)"
   ]
  },
  {
   "cell_type": "code",
   "execution_count": 37,
   "metadata": {},
   "outputs": [],
   "source": [
    "# Create labels\n",
    "label_neg = np.array(np.zeros(len(intens_mean_pos), dtype = int))\n",
    "label_pos = np.array(np.ones(len(intens_mean_neg), dtype = int))\n",
    "labels = np.concatenate((label_pos, label_neg),0)\n"
   ]
  },
  {
   "cell_type": "code",
   "execution_count": 1,
   "metadata": {},
   "outputs": [],
   "source": [
    "#labels.astype(str)"
   ]
  },
  {
   "cell_type": "code",
   "execution_count": 45,
   "metadata": {},
   "outputs": [],
   "source": [
    "# Create dataframe\n",
    "df = pd.DataFrame(np.column_stack([result_mean, result_stdev, labels]), \n",
    "                  index=range(SAMPLE_SIZE*2), \n",
    "                  columns=['Mean', 'StDev', 'label']) "
   ]
  },
  {
   "cell_type": "code",
   "execution_count": 44,
   "metadata": {},
   "outputs": [
    {
     "data": {
      "text/plain": [
       "<matplotlib.collections.PathCollection at 0x12e2fba20>"
      ]
     },
     "execution_count": 44,
     "metadata": {},
     "output_type": "execute_result"
    },
    {
     "data": {
      "image/png": "[encoded data removed]",
      "text/plain": [
       "<Figure size 432x288 with 1 Axes>"
      ]
     },
     "metadata": {
      "needs_background": "light"
     },
     "output_type": "display_data"
    }
   ],
   "source": [
    "plt.scatter(df.Mean, df.StDev, c=df.label)"
   ]
  },
  {
   "cell_type": "code",
   "execution_count": null,
   "metadata": {},
   "outputs": [],
   "source": [
    "# Export to .csv\n",
    "df.to_csv('features_example.csv')"
   ]
  }
 ],
 "metadata": {
  "kernelspec": {
   "display_name": "Python 3",
   "language": "python",
   "name": "python3"
  },
  "language_info": {
   "codemirror_mode": {
    "name": "ipython",
    "version": 3
   },
   "file_extension": ".py",
   "mimetype": "text/x-python",
   "name": "python",
   "nbconvert_exporter": "python",
   "pygments_lexer": "ipython3",
   "version": "3.6.5"
  }
 },
 "nbformat": 4,
 "nbformat_minor": 2
}
