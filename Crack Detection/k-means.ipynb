{
 "cells": [
  {
   "cell_type": "code",
   "execution_count": 1,
   "metadata": {},
   "outputs": [],
   "source": [
    "import cv2\n",
    "import numpy as np\n",
    "from scipy import ndimage, misc\n",
    "from matplotlib import pyplot as plt"
   ]
  },
  {
   "cell_type": "code",
   "execution_count": 2,
   "metadata": {},
   "outputs": [],
   "source": [
    "def k_means(img):\n",
    "    Z = img.reshape((-1,3))\n",
    "\n",
    "    # convert to np.float32\n",
    "    Z = np.float32(Z)\n",
    "\n",
    "    # define criteria, number of clusters(K) and apply kmeans()\n",
    "    criteria = (cv2.TERM_CRITERIA_EPS + cv2.TERM_CRITERIA_MAX_ITER, 10, 1.0)\n",
    "    K = 2\n",
    "    ret,label,center=cv2.kmeans(Z,K,None,criteria,10,cv2.KMEANS_RANDOM_CENTERS)\n",
    "\n",
    "    # Now convert back into uint8, and make original image\n",
    "    center = np.uint8(center)\n",
    "    res = center[label.flatten()]\n",
    "    res2 = res.reshape((img.shape))\n",
    "\n",
    "    return res2"
   ]
  },
  {
   "cell_type": "code",
   "execution_count": 18,
   "metadata": {},
   "outputs": [],
   "source": [
    "pos = cv2.imread(\"C:\\\\Users\\\\Rasmus\\\\Desktop\\\\Deep Learning\\\\concrete_data\\\\Positive\\\\{0:05d}.jpg\".format(np.random.randint(1,10000)))\n",
    "#pos = cv2.imread(\"C:\\\\Users\\\\Rasmus\\\\Desktop\\\\Deep Learning\\\\concrete_data\\\\Negative\\\\{0:05d}.jpg\".format(np.random.randint(1,20000)))\n",
    "\n",
    "g_pos = cv2.cvtColor(pos, cv2.COLOR_BGR2GRAY)\n",
    "g_blur = cv2.medianBlur(g_pos, 3)\n",
    "\n",
    "pos_3 = cv2.medianBlur(pos, 3)\n",
    "# pos_5 = cv2.medianBlur(pos, 5)\n",
    "# pos_7 = cv2.medianBlur(pos, 7)\n",
    "\n",
    "k_means_0 = k_means(pos)\n",
    "k_means_3 = k_means(pos_3)\n",
    "# k_means_5 = k_means(pos_5)\n",
    "# k_means_7 = k_means(pos_7)\n",
    "\n",
    "retval, th = cv2.threshold(g_blur, 0, 255, cv2.THRESH_BINARY_INV + cv2.THRESH_OTSU)\n",
    "\n",
    "\n",
    "cv2.imshow(\"Original\", pos)\n",
    "\n",
    "# cv2.imshow(\"Med_blur_3\", pos_3)\n",
    "# cv2.imshow(\"Med_blur_5\", pos_5)\n",
    "# cv2.imshow(\"Med_blur_7\", pos_7)\n",
    "\n",
    "cv2.imshow(\"k_means\", k_means_0)\n",
    "cv2.imshow(\"k_means_3\", k_means_3)\n",
    "# cv2.imshow(\"k_means_5\", k_means_5)\n",
    "# cv2.imshow(\"k_means_7\", k_means_7)\n",
    "\n",
    "cv2.imshow(\"Otsu's Threshold\", th)\n",
    "\n",
    "cv2.waitKey(0)\n",
    "cv2.destroyAllWindows()"
   ]
  },
  {
   "cell_type": "code",
   "execution_count": 10,
   "metadata": {},
   "outputs": [],
   "source": [
    "pos = cv2.imread(\"C:\\\\Users\\\\Rasmus\\\\Desktop\\\\Deep Learning\\\\concrete_data\\\\Positive\\\\{0:05d}.jpg\".format(np.random.randint(1,10000)))\n",
    "g_pos = cv2.cvtColor(pos, cv2.COLOR_BGR2GRAY)\n",
    "\n",
    "\n",
    "cv2.imshow(\"Original\", pos)\n",
    "cv2.imshow(\"Adaptive Threshold\", th)\n",
    "\n",
    "\n",
    "cv2.waitKey(0)\n",
    "cv2.destroyAllWindows()"
   ]
  }
 ],
 "metadata": {
  "kernelspec": {
   "display_name": "Python 3",
   "language": "python",
   "name": "python3"
  },
  "language_info": {
   "codemirror_mode": {
    "name": "ipython",
    "version": 3
   },
   "file_extension": ".py",
   "mimetype": "text/x-python",
   "name": "python",
   "nbconvert_exporter": "python",
   "pygments_lexer": "ipython3",
   "version": "3.6.5"
  }
 },
 "nbformat": 4,
 "nbformat_minor": 2
}
