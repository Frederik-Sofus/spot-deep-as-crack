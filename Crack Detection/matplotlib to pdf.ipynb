{
 "cells": [
  {
   "cell_type": "code",
   "execution_count": 1,
   "metadata": {},
   "outputs": [],
   "source": [
    "import numpy as np\n",
    "from matplotlib import pyplot as plt\n",
    "import cv2"
   ]
  },
  {
   "cell_type": "code",
   "execution_count": 2,
   "metadata": {},
   "outputs": [],
   "source": [
    "# Processing Function\n",
    "\n",
    "def crack_detection(img):\n",
    "    '''\n",
    "    Write your crack detection processing steps here\n",
    "    '''\n",
    "    im = img.copy()\n",
    "    \n",
    "    g_im = cv2.cvtColor(img, cv2.COLOR_BGR2GRAY)\n",
    "    blur_im = cv2.medianBlur(g_im, 3)\n",
    "    val, th = cv2.threshold(blur_im, 0, 255, cv2.THRESH_BINARY_INV+cv2.THRESH_OTSU)\n",
    "    \n",
    "    kernel = cv2.getStructuringElement(cv2.MORPH_ELLIPSE,(5,5))\n",
    "    _open = cv2.morphologyEx(th, cv2.MORPH_OPEN, kernel)\n",
    "    \n",
    "    return val, _open\n",
    "    "
   ]
  },
  {
   "cell_type": "code",
   "execution_count": 22,
   "metadata": {},
   "outputs": [],
   "source": [
    "# Find suitable postive image \n",
    "\n",
    "#label = \"C:\\\\Users\\\\Rasmus\\\\Desktop\\\\Deep Learning\\\\concrete_data\\\\Positive\\\\{0:05d}.jpg\".format(np.random.randint(1,10000))\n",
    "#label = \"C:\\\\Users\\\\Rasmus\\\\Desktop\\\\Deep Learning\\\\concrete_data\\\\Positive\\\\{0:05d}.jpg\".format(6369)\n",
    "label_n = \"C:\\\\Users\\\\Rasmus\\\\Desktop\\\\Deep Learning\\\\concrete_data\\\\Positive\\\\{0:05d}.jpg\".format(1045)\n",
    "\n",
    "#img = cv2.imread(label)\n",
    "img_n = cv2.imread(label_n)\n",
    "\n",
    "#print(label)\n",
    "# C:\\Users\\Rasmus\\Desktop\\Deep Learning\\concrete_data\\Positive\\06369.jpg\n",
    "#C:\\Users\\Rasmus\\Desktop\\Deep Learning\\concrete_data\\Positive\\01045.jpg\n",
    "\n",
    "cv2.imshow(\"Cracked Image\", img)\n",
    "#cv2.imshow(\"Bad Cracked Image\", img_n)\n",
    "cv2.waitKey(0)\n",
    "cv2.destroyAllWindows()"
   ]
  },
  {
   "cell_type": "code",
   "execution_count": 5,
   "metadata": {},
   "outputs": [
    {
     "name": "stdout",
     "output_type": "stream",
     "text": [
      "C:\\Users\\Rasmus\\Desktop\\Deep Learning\\concrete_data\\Negative\\12960.jpg\n"
     ]
    }
   ],
   "source": [
    "# Find suitable negative image \n",
    "\n",
    "#label_n = \"C:\\\\Users\\\\Rasmus\\\\Desktop\\\\Deep Learning\\\\concrete_data\\\\Negative\\\\{0:05d}.jpg\".format(np.random.randint(1,20000))\n",
    "label_n = \"C:\\\\Users\\\\Rasmus\\\\Desktop\\\\Deep Learning\\\\concrete_data\\\\Negative\\\\{0:05d}.jpg\".format(12960)\n",
    "img_n = cv2.imread(label_n)\n",
    "\n",
    "print(label_n)\n",
    "# C:\\Users\\Rasmus\\Desktop\\Deep Learning\\concrete_data\\Negative\\12960.jpg\n",
    "#imgn_cd = crack_detection(img_n)\n",
    "\n",
    "cv2.imshow(\"Cracked Image\", img_n)\n",
    "#cv2.imshow(\"Crack Detection\", imgn_cd)\n",
    "cv2.waitKey(0)\n",
    "cv2.destroyAllWindows()"
   ]
  },
  {
   "cell_type": "code",
   "execution_count": 23,
   "metadata": {},
   "outputs": [],
   "source": [
    "# Find better names to distinguish positive and negative\n",
    "th1, img_cd = crack_detection(img)\n",
    "th2, imgn_cd = crack_detection(img_n)\n",
    "\n",
    "cv2.imshow(\"crack\", img)\n",
    "cv2.imshow(\"crack after detection\", img_cd)\n",
    "cv2.imshow(\"no Crack\", img_n)\n",
    "cv2.imshow(\"no crack after detection\", imgn_cd)\n",
    "cv2.waitKey(0)\n",
    "cv2.destroyAllWindows()\n",
    "\n"
   ]
  },
  {
   "cell_type": "code",
   "execution_count": 24,
   "metadata": {},
   "outputs": [
    {
     "name": "stdout",
     "output_type": "stream",
     "text": [
      "Cracked image\n",
      "66.64079553723018\n",
      "21.517975937073718 \n",
      "\n",
      "Non cracked image\n",
      "155.1798103736754\n",
      "21.622884908740705\n"
     ]
    }
   ],
   "source": [
    "g_img = cv2.cvtColor(img, cv2.COLOR_BGR2GRAY)\n",
    "g_img_n = cv2.cvtColor(img_n, cv2.COLOR_BGR2GRAY)\n",
    "\n",
    "\n",
    "i = g_img < th1\n",
    "ix = g_img_n < th2\n",
    "\n",
    "\n",
    "print(\"Cracked image\")\n",
    "print(g_img[i].mean())\n",
    "print(g_img[i].std(), \"\\n\")\n",
    "\n",
    "\n",
    "print(\"Non cracked image\")\n",
    "print(g_img_n[ix].mean())\n",
    "print(g_img_n[ix].std())\n",
    "\n",
    "\n",
    "# Good Cracked image\n",
    "# 66.64079553723018\n",
    "# 21.517975937073718 \n",
    "\n",
    "# Good non-cracked image\n",
    "# 179.54538985463049\n",
    "# 4.576126702043907"
   ]
  },
  {
   "cell_type": "code",
   "execution_count": 48,
   "metadata": {},
   "outputs": [
    {
     "data": {
      "image/png": "[encoded data removed]",
      "text/plain": [
       "<Figure size 432x288 with 1 Axes>"
      ]
     },
     "metadata": {},
     "output_type": "display_data"
    }
   ],
   "source": [
    "# FIND APPROPIATE figsize() TO MATCH IMAGES PDF IN REPORT\n",
    "\n",
    "g_pos = cv2.cvtColor(img, cv2.COLOR_BGR2GRAY)\n",
    "\n",
    "f1 = plt.figure()\n",
    "plt.hist(g_pos.ravel(),256,[0,256])\n",
    "#plt.axvline(th1, color='r')\n",
    "\n",
    "\n",
    "\n",
    "plt.show()"
   ]
  },
  {
   "cell_type": "code",
   "execution_count": 49,
   "metadata": {
    "scrolled": true
   },
   "outputs": [
    {
     "data": {
      "image/png": "[encoded data removed]",
      "text/plain": [
       "<Figure size 432x288 with 1 Axes>"
      ]
     },
     "metadata": {},
     "output_type": "display_data"
    }
   ],
   "source": [
    "g_pos = cv2.cvtColor(img_n, cv2.COLOR_BGR2GRAY)\n",
    "\n",
    "f2 = plt.figure()\n",
    "plt.hist(g_pos.ravel(),256,[0,256])\n",
    "#plt.axvline(th2, color='r')\n",
    "\n",
    "plt.show()"
   ]
  },
  {
   "cell_type": "code",
   "execution_count": 51,
   "metadata": {},
   "outputs": [],
   "source": [
    "f1.savefig(\"C:\\\\Users\\\\Rasmus\\\\Desktop\\\\Crack Detection\\\\report\\\\simple_crack_noth1.pdf\", bbox_inches='tight')\n",
    "f2.savefig(\"C:\\\\Users\\\\Rasmus\\\\Desktop\\\\Crack Detection\\\\report\\\\simple_nocrack_noth1.pdf\", bbox_inches='tight')"
   ]
  },
  {
   "cell_type": "code",
   "execution_count": 38,
   "metadata": {},
   "outputs": [
    {
     "data": {
      "text/plain": [
       "True"
      ]
     },
     "execution_count": 38,
     "metadata": {},
     "output_type": "execute_result"
    }
   ],
   "source": [
    "# Write to .jpg\n",
    "\n",
    "\n",
    "# cv2.imwrite(\"C:\\\\Users\\\\Rasmus\\\\Desktop\\\\Crack Detection\\\\report\\\\simple_crack1.jpg\", img)\n",
    "# cv2.imwrite(\"C:\\\\Users\\\\Rasmus\\\\Desktop\\\\Crack Detection\\\\report\\\\simple_crack_detection1.jpg\", img_cd)\n",
    "cv2.imwrite(\"C:\\\\Users\\\\Rasmus\\\\Desktop\\\\Crack Detection\\\\report\\\\bias_needed1.jpg\", img_n)\n",
    "cv2.imwrite(\"C:\\\\Users\\\\Rasmus\\\\Desktop\\\\Crack Detection\\\\report\\\\bias_needed_detection1.jpg\", imgn_cd)\n",
    "            "
   ]
  },
  {
   "cell_type": "code",
   "execution_count": 53,
   "metadata": {},
   "outputs": [
    {
     "name": "stdout",
     "output_type": "stream",
     "text": [
      "[[0 1 0]\n",
      " [1 1 1]\n",
      " [0 1 0]]\n"
     ]
    }
   ],
   "source": [
    "print(cv2.getStructuringElement(cv2.MORPH_ELLIPSE,(3,3)))"
   ]
  }
 ],
 "metadata": {
  "kernelspec": {
   "display_name": "Python 3",
   "language": "python",
   "name": "python3"
  },
  "language_info": {
   "codemirror_mode": {
    "name": "ipython",
    "version": 3
   },
   "file_extension": ".py",
   "mimetype": "text/x-python",
   "name": "python",
   "nbconvert_exporter": "python",
   "pygments_lexer": "ipython3",
   "version": "3.6.5"
  }
 },
 "nbformat": 4,
 "nbformat_minor": 2
}
