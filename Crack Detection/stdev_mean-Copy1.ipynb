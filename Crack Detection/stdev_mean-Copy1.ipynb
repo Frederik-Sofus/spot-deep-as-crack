{
 "cells": [
  {
   "cell_type": "code",
   "execution_count": 1,
   "metadata": {},
   "outputs": [],
   "source": [
    "''' Generates csv with mean and standard deviation of potential crack\n",
    " intensities and gradients'''\n",
    "\n",
    "# Setup\n",
    "import csv\n",
    "import pandas as pd\n",
    "import numpy as np\n",
    "import cv2\n",
    "import matplotlib.pyplot as plt"
   ]
  },
  {
   "cell_type": "code",
   "execution_count": 2,
   "metadata": {},
   "outputs": [],
   "source": [
    "# Dataset Load function\n",
    "# Selects and greyscales 100 negative and positive images\n",
    "\n",
    "# REMEMBER THE PATH \n",
    "def get_train_data(nsamples=100):\n",
    "\n",
    "    data_pos = [cv2.cvtColor(cv2.imread(\"C:\\\\Users\\\\Rasmus\\\\Desktop\\\\Deep Learning\\\\concrete_data\\\\Positive\\\\{0:05d}.jpg\".format(np.random.randint(1,10000))), cv2.COLOR_BGR2GRAY) for i in range(nsamples)]\n",
    "\n",
    "    data_neg = [cv2.cvtColor(cv2.imread(\"C:\\\\Users\\\\Rasmus\\\\Desktop\\\\Deep Learning\\\\concrete_data\\\\Negative\\\\{0:05d}.jpg\".format(np.random.randint(1,20000))), cv2.COLOR_BGR2GRAY) for i in range(nsamples)]\n",
    "\n",
    "    return data_pos, data_neg"
   ]
  },
  {
   "cell_type": "code",
   "execution_count": 3,
   "metadata": {},
   "outputs": [],
   "source": [
    "# Calculates and returns mean and standard deviation for all images.\n",
    "def mean_int(im, im_bin, key):\n",
    "    (h,w) = im.shape\n",
    "    (mean, stdev) = (0, 0)\n",
    "    vals = []\n",
    "    for i in range(h):\n",
    "        for j in range(w):\n",
    "            if im_bin[i,j] == key:\n",
    "                vals.append(im[i,j])\n",
    "                \n",
    "    mean = sum(vals) / len(vals)   \n",
    "    try:\n",
    "        stdev = sum([abs(x - mean) for x in vals]) / len(vals)\n",
    "    except ZeroDivisionError:\n",
    "        stdev = 'NaN'\n",
    "\n",
    "    return mean, stdev"
   ]
  },
  {
   "cell_type": "code",
   "execution_count": 31,
   "metadata": {},
   "outputs": [],
   "source": [
    "def find_limits(img, lb, ub):\n",
    "    w, h = img.shape\n",
    "    im_arr = np.reshape(img, (w*h))\n",
    "    \n",
    "    im_arr = np.sort(im_arr)\n",
    "    \n",
    "    i_a = int(round(w*h * lb, 0))\n",
    "    i_b = int(round(w*h * ub, 0))\n",
    "    \n",
    "    a = im_arr[i_a-1]\n",
    "    b = im_arr[i_b-1]\n",
    "    \n",
    "    t = find_t(im_arr, i_a, i_b)\n",
    "    \n",
    "    return a, b, t\n",
    "\n",
    "def find_t(arr, ia, ib):\n",
    "    a, b = arr[ia], arr[ib]\n",
    "    \n",
    "    interval = arr[ia:ib+1]\n",
    "    mean_i = sum(interval) / len(interval)\n",
    "    \n",
    "    t = (2*mean_i*(b - a)) / (255*(a+b))\n",
    "    \n",
    "    return t\n",
    "\n",
    "def nl_grayscale(img, lb, ub):\n",
    "    '''\n",
    "    Non-linear grayscale transformation\n",
    "    '''\n",
    "    new_a = 0\n",
    "    new_b = 255\n",
    "    a, b, t = find_limits(img, lb, ub)\n",
    "    w, h = img.shape\n",
    "    \n",
    "\n",
    "    im_out = img.copy()\n",
    "    \n",
    "    i = img<a\n",
    "    im_out[i] = new_a\n",
    "    \n",
    "    i = img > b\n",
    "    im_out[i] = new_b\n",
    "    \n",
    "    \n",
    "    for i in range(w):\n",
    "        for j in range(h):\n",
    "            if img[i, j] < a and not img[i, j] > b:\n",
    "                new_a + ((new_a - new_b) / (a**t - b**t)) * (img[i, j]**t - a**t)\n",
    "                \n",
    "                \n",
    "    #im_out[not img<b] = new_b\n",
    "    #im_out[img<a and not img<b] = new_a\n",
    "    \n",
    "    return im_out\n"
   ]
  },
  {
   "cell_type": "code",
   "execution_count": 32,
   "metadata": {},
   "outputs": [],
   "source": [
    "def improved_otsu(img, thresh, ksize=7):\n",
    "    '''\n",
    "    Improved Otsu's Method\n",
    "    '''\n",
    "\n",
    "    w, h = img.shape\n",
    "    x = ksize // 2\n",
    "    y = ksize // 2\n",
    "    im_out = img.copy()\n",
    "    \n",
    "    # STEP 1 -> 3\n",
    "    \n",
    "    while not x > w:\n",
    "        while y < (h - ksize // 2):\n",
    "            \n",
    "            if not x == w:\n",
    "                window = img[(x-3):(x+4),(y-3):(y+4)]\n",
    "            else:\n",
    "                window = img[(x-3):x,(y-3):(y+4)]\n",
    "                \n",
    "            var = window.std()\n",
    "            \n",
    "\n",
    "            if var < thresh:\n",
    "                new_thresh, seg_window = cv2.threshold(window, thresh, 255, cv2.THRESH_BINARY_INV)\n",
    "            else:\n",
    "                new_thresh, seg_window = cv2.threshold(window, 0, 255, cv2.THRESH_BINARY_INV + cv2.THRESH_OTSU)\n",
    "                \n",
    "                \n",
    "            if not x == w:\n",
    "                im_out[(x-3):(x+4),(y-3):(y+4)] = seg_window\n",
    "            else:\n",
    "                im_out[(x-3):x,(y-3):(y+4)] = seg_window\n",
    "                \n",
    "            y += ksize\n",
    "            \n",
    "            #m = window.mean()\n",
    "            #var = sum([(i - m) ** 2 for i in window]) / ksize**2\n",
    "            #var = sum([sum([ (i[j] - m) ** 2 for j in range(7)]) for i in window])/ 7 ** 2\n",
    "            \n",
    "            #print(var)\n",
    "            #print((x-3), (x+4), y-3, y+4)\n",
    "        \n",
    "        if not x == w:\n",
    "            window = img[(x-3):(x+4),(y-3):y]\n",
    "        else:\n",
    "            window = img[(x-3):x,(y-3):y]\n",
    "            \n",
    "        var = window.std()\n",
    "        \n",
    "        if var < thresh:\n",
    "            new_thresh, seg_window = cv2.threshold(window, thresh, 255, cv2.THRESH_BINARY_INV)\n",
    "        else:\n",
    "            new_thresh, seg_window = cv2.threshold(window, 0, 255, cv2.THRESH_BINARY_INV + cv2.THRESH_OTSU)\n",
    "        if not x == w:\n",
    "            im_out[(x-3):(x+4),(y-3):y] = seg_window\n",
    "        else:\n",
    "            im_out[(x-3):x,(y-3):y] = seg_window\n",
    "            \n",
    "        x += ksize\n",
    "        y = ksize // 2\n",
    "    \n",
    "    window = img[(x-3):x,(y-3):(y+4)]\n",
    "    var = window.std()\n",
    "    if var < thresh:\n",
    "        new_thresh, seg_window = cv2.threshold(window, thresh, 255, cv2.THRESH_BINARY_INV)\n",
    "    else:\n",
    "        new_thresh, seg_window = cv2.threshold(window, 0, 255, cv2.THRESH_BINARY_INV + cv2.THRESH_OTSU)\n",
    "\n",
    "    im_out[(x-3):x,(y-3):(y+4)] = seg_window\n",
    "    \n",
    "    # Step 4\n",
    "    \n",
    "#     kernel = cv2.getStructuringElement(cv2.MORPH_ELLIPSE,(3,3))\n",
    "#     im_out = cv2.dilate(im_out, kernel, iterations = 1)\n",
    "#     kernel = cv2.getStructuringElement(cv2.MORPH_ELLIPSE,(5,5))\n",
    "#     im_out = cv2.erode(im_out, kernel, iterations = 1)\n",
    "    \n",
    "#     blur = cv2.medianBlur(im_out, 5)\n",
    "\n",
    "    \n",
    "    return im_out"
   ]
  },
  {
   "cell_type": "code",
   "execution_count": 33,
   "metadata": {},
   "outputs": [],
   "source": [
    "SAMPLE_SIZE = 100\n",
    "pos, neg = get_train_data(SAMPLE_SIZE)"
   ]
  },
  {
   "cell_type": "code",
   "execution_count": 34,
   "metadata": {},
   "outputs": [],
   "source": [
    "# PIPELINE: \n",
    "# Linear Grayscale -> Otsu's method + Inv. binary threshold (0, 255) -> Erosion (7x7)\n",
    "\n",
    "# blur_pos = [cv2.GaussianBlur(pos[i], (7, 7), 0) for i in range(SAMPLE_SIZE)]\n",
    "# out = [cv2.threshold(blur_pos[i], 0, 255, cv2.THRESH_BINARY+cv2.THRESH_OTSU) for i in range(SAMPLE_SIZE)]\n",
    "\n",
    "# thres_val_pos = [out[i][0] for i in range(SAMPLE_SIZE)]\n",
    "# thresh_pos = [np.bitwise_not(out[i][1]) for i in range(SAMPLE_SIZE)]\n",
    "\n",
    "# blur_neg = [cv2.GaussianBlur(neg[i], (7, 7), 0) for i in range(SAMPLE_SIZE)]\n",
    "# out = [cv2.threshold(blur_neg[i], 0, 255, cv2.THRESH_BINARY+cv2.THRESH_OTSU) for i in range(SAMPLE_SIZE)]\n",
    "\n",
    "# thres_val_neg = [out[i][0] for i in range(SAMPLE_SIZE)]\n",
    "# thresh_neg = [np.bitwise_not(out[i][1]) for i in range(SAMPLE_SIZE)]\n",
    "\n",
    "# kernel = np.ones((7, 7), np.uint8)\n",
    "# erosion_pos = [cv2.erode(thresh_pos[i], kernel, iterations=1) for i in range(SAMPLE_SIZE)]\n",
    "# erosion_neg = [cv2.erode(thresh_neg[i], kernel, iterations=1) for i in range(SAMPLE_SIZE)]"
   ]
  },
  {
   "cell_type": "code",
   "execution_count": 35,
   "metadata": {},
   "outputs": [
    {
     "name": "stderr",
     "output_type": "stream",
     "text": [
      "C:\\Program Files (x86)\\Microsoft Visual Studio\\Shared\\Anaconda3_64\\lib\\site-packages\\ipykernel_launcher.py:23: RuntimeWarning: overflow encountered in ubyte_scalars\n",
      "C:\\Program Files (x86)\\Microsoft Visual Studio\\Shared\\Anaconda3_64\\lib\\site-packages\\ipykernel_launcher.py:23: RuntimeWarning: divide by zero encountered in double_scalars\n",
      "C:\\Program Files (x86)\\Microsoft Visual Studio\\Shared\\Anaconda3_64\\lib\\site-packages\\ipykernel_launcher.py:49: RuntimeWarning: invalid value encountered in double_scalars\n"
     ]
    },
    {
     "name": "stdout",
     "output_type": "stream",
     "text": [
      "Shitton of stuff done, just ignore warnings\n"
     ]
    },
    {
     "name": "stderr",
     "output_type": "stream",
     "text": [
      "C:\\Users\\Rasmus\\AppData\\Roaming\\Python\\Python36\\site-packages\\numpy\\core\\_methods.py:135: RuntimeWarning: Degrees of freedom <= 0 for slice\n",
      "  keepdims=keepdims)\n",
      "C:\\Users\\Rasmus\\AppData\\Roaming\\Python\\Python36\\site-packages\\numpy\\core\\_methods.py:105: RuntimeWarning: invalid value encountered in true_divide\n",
      "  arrmean, rcount, out=arrmean, casting='unsafe', subok=False)\n",
      "C:\\Users\\Rasmus\\AppData\\Roaming\\Python\\Python36\\site-packages\\numpy\\core\\_methods.py:127: RuntimeWarning: invalid value encountered in double_scalars\n",
      "  ret = ret.dtype.type(ret / rcount)\n"
     ]
    },
    {
     "name": "stdout",
     "output_type": "stream",
     "text": [
      "Improved Otsu done, just ignore warnings\n",
      "Shitton of stuff done, just ignore warnings\n",
      "Improved Otsu done, just ignore warnings\n"
     ]
    }
   ],
   "source": [
    "# PIPELINE: \n",
    "# Median Blur (3x3) -> Non-linear grayscale (adaptive upper bound) -> Improved Otsu's w/ bias\n",
    "\n",
    "blur_pos = [cv2.medianBlur(pos[i], 3) for i in range(SAMPLE_SIZE)]\n",
    "out = [cv2.threshold(blur_pos[i], 0, 255, cv2.THRESH_BINARY_INV+cv2.THRESH_OTSU) for i in range(SAMPLE_SIZE)]\n",
    "# thres_val_pos = [out[i][0] for i in range(SAMPLE_SIZE)] # Only contains threshold values\n",
    "thresh_pos = [out[i][1] for i in range(SAMPLE_SIZE)]\n",
    "\n",
    "kernel = cv2.getStructuringElement(cv2.MORPH_ELLIPSE,(3,3))\n",
    "open_pos = [cv2.morphologyEx(thresh_pos[i], cv2.MORPH_OPEN, kernel) for i in range(SAMPLE_SIZE)]\n",
    "\n",
    "upper_bound_pos = [round(np.count_nonzero(open_pos[i])/(227*227), 4) for i in range(SAMPLE_SIZE)]\n",
    "nl_pos = [nl_grayscale(blur_pos[i], 0.02, val+0.05) for i, val in enumerate(upper_bound_pos)]\n",
    "#print(len(nl_pos))\n",
    "\n",
    "out = [cv2.threshold(nl_pos[i], 0, 255, cv2.THRESH_BINARY_INV+cv2.THRESH_OTSU) for i in range(SAMPLE_SIZE)]\n",
    "nl_thres_val_pos = [out[i][0] for i in range(SAMPLE_SIZE)] # Only contains threshold values\n",
    "print(\"Shitton of stuff done, just ignore warnings\")\n",
    "\n",
    "imp_otsu_pos = [improved_otsu(nl_pos[i], val-20) for i, val in enumerate(nl_thres_val_pos)]\n",
    "print(\"Improved Otsu done, just ignore warnings\")\n",
    "\n",
    "#------------------------------------------------------------------------------------------------------------------------\n",
    "\n",
    "blur_neg = [cv2.medianBlur(neg[i], 3) for i in range(SAMPLE_SIZE)]\n",
    "out = [cv2.threshold(blur_neg[i], 0, 255, cv2.THRESH_BINARY_INV+cv2.THRESH_OTSU) for i in range(SAMPLE_SIZE)]\n",
    "\n",
    "thres_val_neg = [out[i][0] for i in range(SAMPLE_SIZE)]\n",
    "thresh_neg = [out[i][1] for i in range(SAMPLE_SIZE)]\n",
    "\n",
    "kernel = cv2.getStructuringElement(cv2.MORPH_ELLIPSE,(3,3))\n",
    "open_neg = [cv2.morphologyEx(thresh_neg[i], cv2.MORPH_OPEN, kernel) for i in range(SAMPLE_SIZE)]\n",
    "\n",
    "upper_bound_neg = [round(np.count_nonzero(open_neg[i])/(227*227), 4) for i in range(SAMPLE_SIZE)]\n",
    "\n",
    "nl_neg = [nl_grayscale(blur_neg[i], 0.02, val+0.05) for i, val in enumerate(upper_bound_neg)]\n",
    "out = [cv2.threshold(nl_neg[i], 0, 255, cv2.THRESH_BINARY_INV+cv2.THRESH_OTSU) for i in range(SAMPLE_SIZE)]\n",
    "nl_thres_val_neg = [out[i][0] for i in range(SAMPLE_SIZE)] # Only contains threshold values\n",
    "print(\"Shitton of stuff done, just ignore warnings\")\n",
    "\n",
    "imp_otsu_neg = [improved_otsu(nl_neg[i], val-20) for i, val in enumerate(nl_thres_val_neg)]\n",
    "print(\"Improved Otsu done, just ignore warnings\")\n"
   ]
  },
  {
   "cell_type": "code",
   "execution_count": 37,
   "metadata": {},
   "outputs": [
    {
     "name": "stdout",
     "output_type": "stream",
     "text": [
      "227\n",
      "100\n"
     ]
    }
   ],
   "source": [
    "cv2.imshow(\"Crack\", imp_otsu_pos[5])\n",
    "cv2.imshow(\"No Crack\", imp_otsu_neg[5])\n",
    "cv2.waitKey(0)\n",
    "cv2.destroyAllWindows()"
   ]
  },
  {
   "cell_type": "code",
   "execution_count": 38,
   "metadata": {},
   "outputs": [],
   "source": [
    "intens_mean_pos = []\n",
    "intens_std_pos = []\n",
    "intens_mean_neg = []\n",
    "intens_std_neg = []\n",
    "\n",
    "for i in range(SAMPLE_SIZE):\n",
    "    # Positive\n",
    "    m, st = mean_int(pos[i], imp_otsu_pos[i], 255)\n",
    "    intens_mean_pos.append(m)\n",
    "    intens_std_pos.append(st)\n",
    "    \n",
    "    # Negative\n",
    "    m, st = mean_int(neg[i], imp_otsu_pos[i], 255)\n",
    "    intens_mean_neg.append(m)\n",
    "    intens_std_neg.append(st)\n",
    "\n",
    "result_mean = np.concatenate((intens_mean_pos, intens_mean_neg),0)\n",
    "result_stdev = np.concatenate((intens_std_pos, intens_std_neg),0)"
   ]
  },
  {
   "cell_type": "code",
   "execution_count": 39,
   "metadata": {},
   "outputs": [],
   "source": [
    "# Create labels\n",
    "label_neg = np.array(np.zeros(len(intens_mean_pos), dtype = int))\n",
    "label_pos = np.array(np.ones(len(intens_mean_neg), dtype = int))\n",
    "labels = np.concatenate((label_pos, label_neg),0)\n"
   ]
  },
  {
   "cell_type": "code",
   "execution_count": 1,
   "metadata": {},
   "outputs": [],
   "source": [
    "#labels.astype(str)"
   ]
  },
  {
   "cell_type": "code",
   "execution_count": 41,
   "metadata": {},
   "outputs": [
    {
     "data": {
      "text/html": [
       "<div>\n",
       "<style scoped>\n",
       "    .dataframe tbody tr th:only-of-type {\n",
       "        vertical-align: middle;\n",
       "    }\n",
       "\n",
       "    .dataframe tbody tr th {\n",
       "        vertical-align: top;\n",
       "    }\n",
       "\n",
       "    .dataframe thead th {\n",
       "        text-align: right;\n",
       "    }\n",
       "</style>\n",
       "<table border=\"1\" class=\"dataframe\">\n",
       "  <thead>\n",
       "    <tr style=\"text-align: right;\">\n",
       "      <th></th>\n",
       "      <th>Mean</th>\n",
       "      <th>StDev</th>\n",
       "      <th>label</th>\n",
       "    </tr>\n",
       "  </thead>\n",
       "  <tbody>\n",
       "    <tr>\n",
       "      <th>0</th>\n",
       "      <td>76.297816</td>\n",
       "      <td>22.839163</td>\n",
       "      <td>1.0</td>\n",
       "    </tr>\n",
       "    <tr>\n",
       "      <th>1</th>\n",
       "      <td>65.105574</td>\n",
       "      <td>23.420581</td>\n",
       "      <td>1.0</td>\n",
       "    </tr>\n",
       "    <tr>\n",
       "      <th>2</th>\n",
       "      <td>80.991322</td>\n",
       "      <td>21.912027</td>\n",
       "      <td>1.0</td>\n",
       "    </tr>\n",
       "    <tr>\n",
       "      <th>3</th>\n",
       "      <td>140.351193</td>\n",
       "      <td>11.849063</td>\n",
       "      <td>1.0</td>\n",
       "    </tr>\n",
       "    <tr>\n",
       "      <th>4</th>\n",
       "      <td>60.014477</td>\n",
       "      <td>17.213675</td>\n",
       "      <td>1.0</td>\n",
       "    </tr>\n",
       "  </tbody>\n",
       "</table>\n",
       "</div>"
      ],
      "text/plain": [
       "         Mean      StDev  label\n",
       "0   76.297816  22.839163    1.0\n",
       "1   65.105574  23.420581    1.0\n",
       "2   80.991322  21.912027    1.0\n",
       "3  140.351193  11.849063    1.0\n",
       "4   60.014477  17.213675    1.0"
      ]
     },
     "execution_count": 41,
     "metadata": {},
     "output_type": "execute_result"
    }
   ],
   "source": [
    "# Create dataframe\n",
    "df = pd.DataFrame(np.column_stack([result_mean, result_stdev, labels]), \n",
    "                  index=range(SAMPLE_SIZE*2), \n",
    "                  columns=['Mean', 'StDev', 'label']) \n",
    "\n",
    "df.head()"
   ]
  },
  {
   "cell_type": "code",
   "execution_count": 42,
   "metadata": {},
   "outputs": [
    {
     "data": {
      "text/plain": [
       "<matplotlib.collections.PathCollection at 0x21148252f98>"
      ]
     },
     "execution_count": 42,
     "metadata": {},
     "output_type": "execute_result"
    },
    {
     "data": {
      "image/png": "[encoded data removed]",
      "text/plain": [
       "<Figure size 432x288 with 1 Axes>"
      ]
     },
     "metadata": {},
     "output_type": "display_data"
    }
   ],
   "source": [
    "plt.scatter(df.Mean, df.StDev, c=df.label)"
   ]
  },
  {
   "cell_type": "code",
   "execution_count": null,
   "metadata": {},
   "outputs": [],
   "source": [
    "# Export to .csv\n",
    "df.to_csv('features_example.csv')"
   ]
  }
 ],
 "metadata": {
  "kernelspec": {
   "display_name": "Python 3",
   "language": "python",
   "name": "python3"
  },
  "language_info": {
   "codemirror_mode": {
    "name": "ipython",
    "version": 3
   },
   "file_extension": ".py",
   "mimetype": "text/x-python",
   "name": "python",
   "nbconvert_exporter": "python",
   "pygments_lexer": "ipython3",
   "version": "3.6.5"
  }
 },
 "nbformat": 4,
 "nbformat_minor": 2
}
