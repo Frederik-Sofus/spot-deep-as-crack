{
 "cells": [
  {
   "cell_type": "code",
   "execution_count": 15,
   "metadata": {},
   "outputs": [],
   "source": [
    "''' Generates csv with mean and standard deviation of potential crack\n",
    " intensities and gradients'''\n",
    "\n",
    "# Setup\n",
    "import csv\n",
    "import pandas as pd\n",
    "import numpy as np\n",
    "import cv2\n",
    "import matplotlib.pyplot as plt"
   ]
  },
  {
   "cell_type": "code",
   "execution_count": 16,
   "metadata": {},
   "outputs": [],
   "source": [
    "# Dataset Load function\n",
    "# Selects and greyscales 100 negative and positive images\n",
    "\n",
    "# REMEMBER THE PATH \n",
    "def get_train_data(nsamples=100):\n",
    "\n",
    "    data_pos = [cv2.cvtColor(cv2.imread(\"C:\\\\Users\\\\Rasmus\\\\Desktop\\\\Deep Learning\\\\concrete_data\\\\Positive\\\\{0:05d}.jpg\".format(np.random.randint(1,10000))), cv2.COLOR_BGR2GRAY) for i in range(nsamples)]\n",
    "\n",
    "    data_neg = [cv2.cvtColor(cv2.imread(\"C:\\\\Users\\\\Rasmus\\\\Desktop\\\\Deep Learning\\\\concrete_data\\\\Negative\\\\{0:05d}.jpg\".format(np.random.randint(1,20000))), cv2.COLOR_BGR2GRAY) for i in range(nsamples)]\n",
    "\n",
    "    return data_pos, data_neg"
   ]
  },
  {
   "cell_type": "code",
   "execution_count": 17,
   "metadata": {},
   "outputs": [],
   "source": [
    "# Calculates and returns mean and standard deviation for all images.\n",
    "def mean_int(im, im_bin, key):\n",
    "    (h,w) = im.shape\n",
    "    (mean, stdev) = (0, 0)\n",
    "    vals = []\n",
    "    for i in range(h):\n",
    "        for j in range(w):\n",
    "            if im_bin[i,j] == key:\n",
    "                vals.append(im[i,j])\n",
    "                \n",
    "    mean = sum(vals) / len(vals)   \n",
    "    try:\n",
    "        stdev = sum([abs(x - mean) for x in vals]) / len(vals)\n",
    "    except ZeroDivisionError:\n",
    "        stdev = 'NaN'\n",
    "\n",
    "    return mean, stdev"
   ]
  },
  {
   "cell_type": "code",
   "execution_count": 18,
   "metadata": {},
   "outputs": [],
   "source": [
    "def find_limits(img, lb, ub):\n",
    "    w, h = img.shape\n",
    "    im_arr = np.reshape(img, (w*h))\n",
    "    \n",
    "    im_arr = np.sort(im_arr)\n",
    "    \n",
    "    i_a = int(round(w*h * lb, 0))\n",
    "    i_b = int(round(w*h * ub, 0))\n",
    "    \n",
    "    a = im_arr[i_a-1]\n",
    "    b = im_arr[i_b-1]\n",
    "    \n",
    "    t = find_t(im_arr, i_a, i_b)\n",
    "    \n",
    "    return a, b, t\n",
    "\n",
    "def find_t(arr, ia, ib):\n",
    "    a, b = arr[ia], arr[ib]\n",
    "    \n",
    "    interval = arr[ia:ib+1]\n",
    "    mean_i = sum(interval) / len(interval)\n",
    "    \n",
    "    t = (2*mean_i*(b - a)) / (255*(a+b))\n",
    "    \n",
    "    return t\n",
    "\n",
    "def nl_grayscale(img, lb, ub):\n",
    "    '''\n",
    "    Non-linear grayscale transformation\n",
    "    '''\n",
    "    new_a = 0\n",
    "    new_b = 255\n",
    "    a, b, t = find_limits(img, lb, ub)\n",
    "    w, h = img.shape\n",
    "    \n",
    "\n",
    "    im_out = img.copy()\n",
    "    \n",
    "    i = img<a\n",
    "    im_out[i] = new_a\n",
    "    \n",
    "    i = img > b\n",
    "    im_out[i] = new_b\n",
    "    \n",
    "    \n",
    "    for i in range(w):\n",
    "        for j in range(h):\n",
    "            if img[i, j] < a and not img[i, j] > b:\n",
    "                new_a + ((new_a - new_b) / (a**t - b**t)) * (img[i, j]**t - a**t)\n",
    "                \n",
    "                \n",
    "    #im_out[not img<b] = new_b\n",
    "    #im_out[img<a and not img<b] = new_a\n",
    "    \n",
    "    return im_out\n"
   ]
  },
  {
   "cell_type": "code",
   "execution_count": 5,
   "metadata": {},
   "outputs": [],
   "source": [
    "def improved_otsu(img, thresh, ksize=7):\n",
    "    '''\n",
    "    Improved Otsu's Method\n",
    "    '''\n",
    "\n",
    "    w, h = img.shape\n",
    "    x = ksize // 2\n",
    "    y = ksize // 2\n",
    "    im_out = img.copy()\n",
    "    \n",
    "    # STEP 1 -> 3\n",
    "    \n",
    "    while not x > w:\n",
    "        while y < (h - ksize // 2):\n",
    "            \n",
    "            if not x == w:\n",
    "                window = img[(x-3):(x+4),(y-3):(y+4)]\n",
    "            else:\n",
    "                window = img[(x-3):x,(y-3):(y+4)]\n",
    "                \n",
    "            var = window.std()\n",
    "            \n",
    "\n",
    "            if var < thresh:\n",
    "                new_thresh, seg_window = cv2.threshold(window, thresh, 255, cv2.THRESH_BINARY_INV)\n",
    "            else:\n",
    "                new_thresh, seg_window = cv2.threshold(window, 0, 255, cv2.THRESH_BINARY_INV + cv2.THRESH_OTSU)\n",
    "                \n",
    "                \n",
    "            if not x == w:\n",
    "                im_out[(x-3):(x+4),(y-3):(y+4)] = seg_window\n",
    "            else:\n",
    "                im_out[(x-3):x,(y-3):(y+4)] = seg_window\n",
    "                \n",
    "            y += ksize\n",
    "            \n",
    "            #m = window.mean()\n",
    "            #var = sum([(i - m) ** 2 for i in window]) / ksize**2\n",
    "            #var = sum([sum([ (i[j] - m) ** 2 for j in range(7)]) for i in window])/ 7 ** 2\n",
    "            \n",
    "            #print(var)\n",
    "            #print((x-3), (x+4), y-3, y+4)\n",
    "        \n",
    "        if not x == w:\n",
    "            window = img[(x-3):(x+4),(y-3):y]\n",
    "        else:\n",
    "            window = img[(x-3):x,(y-3):y]\n",
    "            \n",
    "        var = window.std()\n",
    "        \n",
    "        if var < thresh:\n",
    "            new_thresh, seg_window = cv2.threshold(window, thresh, 255, cv2.THRESH_BINARY_INV)\n",
    "        else:\n",
    "            new_thresh, seg_window = cv2.threshold(window, 0, 255, cv2.THRESH_BINARY_INV + cv2.THRESH_OTSU)\n",
    "        if not x == w:\n",
    "            im_out[(x-3):(x+4),(y-3):y] = seg_window\n",
    "        else:\n",
    "            im_out[(x-3):x,(y-3):y] = seg_window\n",
    "            \n",
    "        x += ksize\n",
    "        y = ksize // 2\n",
    "    \n",
    "    window = img[(x-3):x,(y-3):(y+4)]\n",
    "    var = window.std()\n",
    "    if var < thresh:\n",
    "        new_thresh, seg_window = cv2.threshold(window, thresh, 255, cv2.THRESH_BINARY_INV)\n",
    "    else:\n",
    "        new_thresh, seg_window = cv2.threshold(window, 0, 255, cv2.THRESH_BINARY_INV + cv2.THRESH_OTSU)\n",
    "\n",
    "    im_out[(x-3):x,(y-3):(y+4)] = seg_window\n",
    "    \n",
    "    # Step 4\n",
    "    \n",
    "#     kernel = cv2.getStructuringElement(cv2.MORPH_ELLIPSE,(3,3))\n",
    "#     im_out = cv2.dilate(im_out, kernel, iterations = 1)\n",
    "#     kernel = cv2.getStructuringElement(cv2.MORPH_ELLIPSE,(5,5))\n",
    "#     im_out = cv2.erode(im_out, kernel, iterations = 1)\n",
    "    \n",
    "#     blur = cv2.medianBlur(im_out, 5)\n",
    "\n",
    "    \n",
    "    return im_out"
   ]
  },
  {
   "cell_type": "code",
   "execution_count": 63,
   "metadata": {},
   "outputs": [],
   "source": [
    "SAMPLE_SIZE = 500\n",
    "pos, neg = get_train_data(SAMPLE_SIZE)"
   ]
  },
  {
   "cell_type": "code",
   "execution_count": 7,
   "metadata": {},
   "outputs": [],
   "source": [
    "# PIPELINE: \n",
    "# Linear Grayscale -> Otsu's method + Inv. binary threshold (0, 255) -> Erosion (7x7)\n",
    "\n",
    "# blur_pos = [cv2.GaussianBlur(pos[i], (7, 7), 0) for i in range(SAMPLE_SIZE)]\n",
    "# out = [cv2.threshold(blur_pos[i], 0, 255, cv2.THRESH_BINARY+cv2.THRESH_OTSU) for i in range(SAMPLE_SIZE)]\n",
    "\n",
    "# thres_val_pos = [out[i][0] for i in range(SAMPLE_SIZE)]\n",
    "# thresh_pos = [np.bitwise_not(out[i][1]) for i in range(SAMPLE_SIZE)]\n",
    "\n",
    "# blur_neg = [cv2.GaussianBlur(neg[i], (7, 7), 0) for i in range(SAMPLE_SIZE)]\n",
    "# out = [cv2.threshold(blur_neg[i], 0, 255, cv2.THRESH_BINARY+cv2.THRESH_OTSU) for i in range(SAMPLE_SIZE)]\n",
    "\n",
    "# thres_val_neg = [out[i][0] for i in range(SAMPLE_SIZE)]\n",
    "# thresh_neg = [np.bitwise_not(out[i][1]) for i in range(SAMPLE_SIZE)]\n",
    "\n",
    "# kernel = np.ones((7, 7), np.uint8)\n",
    "# erosion_pos = [cv2.erode(thresh_pos[i], kernel, iterations=1) for i in range(SAMPLE_SIZE)]\n",
    "# erosion_neg = [cv2.erode(thresh_neg[i], kernel, iterations=1) for i in range(SAMPLE_SIZE)]"
   ]
  },
  {
   "cell_type": "code",
   "execution_count": 64,
   "metadata": {},
   "outputs": [
    {
     "name": "stderr",
     "output_type": "stream",
     "text": [
      "C:\\Program Files (x86)\\Microsoft Visual Studio\\Shared\\Anaconda3_64\\lib\\site-packages\\ipykernel_launcher.py:23: RuntimeWarning: overflow encountered in ubyte_scalars\n",
      "C:\\Program Files (x86)\\Microsoft Visual Studio\\Shared\\Anaconda3_64\\lib\\site-packages\\ipykernel_launcher.py:23: RuntimeWarning: divide by zero encountered in double_scalars\n",
      "C:\\Program Files (x86)\\Microsoft Visual Studio\\Shared\\Anaconda3_64\\lib\\site-packages\\ipykernel_launcher.py:49: RuntimeWarning: invalid value encountered in double_scalars\n"
     ]
    },
    {
     "name": "stdout",
     "output_type": "stream",
     "text": [
      "Shitton of stuff done, just ignore warnings\n"
     ]
    },
    {
     "name": "stderr",
     "output_type": "stream",
     "text": [
      "C:\\Users\\Rasmus\\AppData\\Roaming\\Python\\Python36\\site-packages\\numpy\\core\\_methods.py:135: RuntimeWarning: Degrees of freedom <= 0 for slice\n",
      "  keepdims=keepdims)\n",
      "C:\\Users\\Rasmus\\AppData\\Roaming\\Python\\Python36\\site-packages\\numpy\\core\\_methods.py:105: RuntimeWarning: invalid value encountered in true_divide\n",
      "  arrmean, rcount, out=arrmean, casting='unsafe', subok=False)\n",
      "C:\\Users\\Rasmus\\AppData\\Roaming\\Python\\Python36\\site-packages\\numpy\\core\\_methods.py:127: RuntimeWarning: invalid value encountered in double_scalars\n",
      "  ret = ret.dtype.type(ret / rcount)\n"
     ]
    },
    {
     "name": "stdout",
     "output_type": "stream",
     "text": [
      "Improved Otsu done, just ignore warnings\n",
      "Shitton of stuff done, just ignore warnings\n",
      "Improved Otsu done, just ignore warnings\n"
     ]
    }
   ],
   "source": [
    "# PIPELINE: \n",
    "# Median Blur (3x3) -> Non-linear grayscale (adaptive upper bound) -> Improved Otsu's w/ bias\n",
    "\n",
    "blur_pos = [cv2.medianBlur(pos[i], 3) for i in range(SAMPLE_SIZE)]\n",
    "out = [cv2.threshold(blur_pos[i], 0, 255, cv2.THRESH_BINARY_INV+cv2.THRESH_OTSU) for i in range(SAMPLE_SIZE)]\n",
    "# thres_val_pos = [out[i][0] for i in range(SAMPLE_SIZE)] # Only contains threshold values\n",
    "thresh_pos = [out[i][1] for i in range(SAMPLE_SIZE)]\n",
    "\n",
    "kernel = cv2.getStructuringElement(cv2.MORPH_ELLIPSE,(3,3))\n",
    "open_pos = [cv2.morphologyEx(thresh_pos[i], cv2.MORPH_OPEN, kernel) for i in range(SAMPLE_SIZE)]\n",
    "\n",
    "upper_bound_pos = [round(np.count_nonzero(open_pos[i])/(227*227), 4) for i in range(SAMPLE_SIZE)]\n",
    "nl_pos = [nl_grayscale(blur_pos[i], 0.02, val+0.05) for i, val in enumerate(upper_bound_pos)]\n",
    "#print(len(nl_pos))\n",
    "\n",
    "out = [cv2.threshold(nl_pos[i], 0, 255, cv2.THRESH_BINARY_INV+cv2.THRESH_OTSU) for i in range(SAMPLE_SIZE)]\n",
    "nl_thres_val_pos = [out[i][0] for i in range(SAMPLE_SIZE)] # Only contains threshold values\n",
    "print(\"Shitton of stuff done, just ignore warnings\")\n",
    "\n",
    "imp_otsu_pos = [improved_otsu(nl_pos[i], val-20) for i, val in enumerate(nl_thres_val_pos)]\n",
    "print(\"Improved Otsu done, just ignore warnings\")\n",
    "\n",
    "#------------------------------------------------------------------------------------------------------------------------\n",
    "\n",
    "blur_neg = [cv2.medianBlur(neg[i], 3) for i in range(SAMPLE_SIZE)]\n",
    "out = [cv2.threshold(blur_neg[i], 0, 255, cv2.THRESH_BINARY_INV+cv2.THRESH_OTSU) for i in range(SAMPLE_SIZE)]\n",
    "\n",
    "thres_val_neg = [out[i][0] for i in range(SAMPLE_SIZE)]\n",
    "thresh_neg = [out[i][1] for i in range(SAMPLE_SIZE)]\n",
    "\n",
    "kernel = cv2.getStructuringElement(cv2.MORPH_ELLIPSE,(3,3))\n",
    "open_neg = [cv2.morphologyEx(thresh_neg[i], cv2.MORPH_OPEN, kernel) for i in range(SAMPLE_SIZE)]\n",
    "\n",
    "upper_bound_neg = [round(np.count_nonzero(open_neg[i])/(227*227), 4) for i in range(SAMPLE_SIZE)]\n",
    "\n",
    "nl_neg = [nl_grayscale(blur_neg[i], 0.02, val+0.05) for i, val in enumerate(upper_bound_neg)]\n",
    "out = [cv2.threshold(nl_neg[i], 0, 255, cv2.THRESH_BINARY_INV+cv2.THRESH_OTSU) for i in range(SAMPLE_SIZE)]\n",
    "nl_thres_val_neg = [out[i][0] for i in range(SAMPLE_SIZE)] # Only contains threshold values\n",
    "print(\"Shitton of stuff done, just ignore warnings\")\n",
    "\n",
    "imp_otsu_neg = [improved_otsu(nl_neg[i], val-20) for i, val in enumerate(nl_thres_val_neg)]\n",
    "print(\"Improved Otsu done, just ignore warnings\")\n",
    "\n"
   ]
  },
  {
   "cell_type": "code",
   "execution_count": 65,
   "metadata": {},
   "outputs": [],
   "source": [
    "cv2.imshow(\"Crack Ori\", pos[8])\n",
    "cv2.imshow(\"No Crack Ori\", neg[8])\n",
    "\n",
    "cv2.imshow(\"Crack\", imp_otsu_pos[8])\n",
    "cv2.imshow(\"No Crack\", imp_otsu_neg[8])\n",
    "cv2.waitKey(0)\n",
    "cv2.destroyAllWindows()"
   ]
  },
  {
   "cell_type": "code",
   "execution_count": 66,
   "metadata": {},
   "outputs": [],
   "source": [
    "intens_mean_pos = []\n",
    "intens_std_pos = []\n",
    "intens_mean_neg = []\n",
    "intens_std_neg = []\n",
    "\n",
    "for i in range(SAMPLE_SIZE):\n",
    "    # Positive\n",
    "    m, st = mean_int(pos[i], imp_otsu_pos[i], 255)\n",
    "    intens_mean_pos.append(m)\n",
    "    intens_std_pos.append(st)\n",
    "    \n",
    "    # Negative\n",
    "    m, st = mean_int(neg[i], imp_otsu_pos[i], 255)\n",
    "    intens_mean_neg.append(m)\n",
    "    intens_std_neg.append(st)\n",
    "\n",
    "result_mean = np.concatenate((intens_mean_pos, intens_mean_neg),0)\n",
    "result_stdev = np.concatenate((intens_std_pos, intens_std_neg),0)"
   ]
  },
  {
   "cell_type": "code",
   "execution_count": 67,
   "metadata": {},
   "outputs": [],
   "source": [
    "gauss_pos = [cv2.GaussianBlur(pos[i], (5,5), 0) for i in range(SAMPLE_SIZE)]\n",
    "gauss_neg = [cv2.GaussianBlur(neg[i], (5,5), 0) for i in range(SAMPLE_SIZE)]\n",
    "\n",
    "lap_pos = [cv2.Laplacian(gauss_pos[i], cv2.CV_64F) for i in range(SAMPLE_SIZE)]\n",
    "lap_neg = [cv2.Laplacian(gauss_neg[i], cv2.CV_64F) for i in range(SAMPLE_SIZE)]"
   ]
  },
  {
   "cell_type": "code",
   "execution_count": 68,
   "metadata": {},
   "outputs": [
    {
     "name": "stdout",
     "output_type": "stream",
     "text": [
      "227\n"
     ]
    }
   ],
   "source": [
    "print(len(lap_pos[1]))"
   ]
  },
  {
   "cell_type": "code",
   "execution_count": 69,
   "metadata": {},
   "outputs": [],
   "source": [
    "grad_mean_pos = []\n",
    "grad_std_pos = []\n",
    "grad_mean_neg = []\n",
    "grad_std_neg = []\n",
    "\n",
    "for i in range(SAMPLE_SIZE):\n",
    "    # Positive\n",
    "    m, st = mean_int(lap_pos[i], imp_otsu_pos[i], 255)\n",
    "    grad_mean_pos.append(m)\n",
    "    grad_std_pos.append(st)\n",
    "    \n",
    "    # Negative\n",
    "    m, st = mean_int(lap_neg[i], imp_otsu_pos[i], 255)\n",
    "    grad_mean_neg.append(m)\n",
    "    grad_std_neg.append(st)\n",
    "\n",
    "result_mean_grad = np.concatenate((grad_mean_pos, grad_mean_neg),0)\n",
    "result_stdev_grad = np.concatenate((grad_std_pos, grad_std_neg),0)"
   ]
  },
  {
   "cell_type": "code",
   "execution_count": 70,
   "metadata": {},
   "outputs": [],
   "source": [
    "# Create labels\n",
    "label_neg = np.array(np.zeros(len(intens_mean_pos), dtype = int))\n",
    "label_pos = np.array(np.ones(len(intens_mean_neg), dtype = int))\n",
    "labels = np.concatenate((label_pos, label_neg),0)\n"
   ]
  },
  {
   "cell_type": "code",
   "execution_count": 12,
   "metadata": {},
   "outputs": [],
   "source": [
    "#labels.astype(str)"
   ]
  },
  {
   "cell_type": "code",
   "execution_count": 71,
   "metadata": {},
   "outputs": [
    {
     "data": {
      "text/html": [
       "<div>\n",
       "<style scoped>\n",
       "    .dataframe tbody tr th:only-of-type {\n",
       "        vertical-align: middle;\n",
       "    }\n",
       "\n",
       "    .dataframe tbody tr th {\n",
       "        vertical-align: top;\n",
       "    }\n",
       "\n",
       "    .dataframe thead th {\n",
       "        text-align: right;\n",
       "    }\n",
       "</style>\n",
       "<table border=\"1\" class=\"dataframe\">\n",
       "  <thead>\n",
       "    <tr style=\"text-align: right;\">\n",
       "      <th></th>\n",
       "      <th>Mean</th>\n",
       "      <th>StDev</th>\n",
       "      <th>label</th>\n",
       "    </tr>\n",
       "  </thead>\n",
       "  <tbody>\n",
       "    <tr>\n",
       "      <th>0</th>\n",
       "      <td>91.289461</td>\n",
       "      <td>20.921652</td>\n",
       "      <td>1.0</td>\n",
       "    </tr>\n",
       "    <tr>\n",
       "      <th>1</th>\n",
       "      <td>83.884333</td>\n",
       "      <td>13.256290</td>\n",
       "      <td>1.0</td>\n",
       "    </tr>\n",
       "    <tr>\n",
       "      <th>2</th>\n",
       "      <td>104.066036</td>\n",
       "      <td>22.754079</td>\n",
       "      <td>1.0</td>\n",
       "    </tr>\n",
       "    <tr>\n",
       "      <th>3</th>\n",
       "      <td>90.049002</td>\n",
       "      <td>22.820437</td>\n",
       "      <td>1.0</td>\n",
       "    </tr>\n",
       "    <tr>\n",
       "      <th>4</th>\n",
       "      <td>87.474838</td>\n",
       "      <td>10.641719</td>\n",
       "      <td>1.0</td>\n",
       "    </tr>\n",
       "  </tbody>\n",
       "</table>\n",
       "</div>"
      ],
      "text/plain": [
       "         Mean      StDev  label\n",
       "0   91.289461  20.921652    1.0\n",
       "1   83.884333  13.256290    1.0\n",
       "2  104.066036  22.754079    1.0\n",
       "3   90.049002  22.820437    1.0\n",
       "4   87.474838  10.641719    1.0"
      ]
     },
     "execution_count": 71,
     "metadata": {},
     "output_type": "execute_result"
    }
   ],
   "source": [
    "# Create dataframe\n",
    "df = pd.DataFrame(np.column_stack([result_mean, result_stdev, labels]), \n",
    "                  index=range(SAMPLE_SIZE*2), \n",
    "                  columns=['Mean', 'StDev', 'label']) \n",
    "\n",
    "df.head()"
   ]
  },
  {
   "cell_type": "code",
   "execution_count": 72,
   "metadata": {},
   "outputs": [
    {
     "data": {
      "text/plain": [
       "<matplotlib.collections.PathCollection at 0x182e922e208>"
      ]
     },
     "execution_count": 72,
     "metadata": {},
     "output_type": "execute_result"
    },
    {
     "data": {
      "image/png": "[encoded data removed]",
      "text/plain": [
       "<Figure size 432x288 with 1 Axes>"
      ]
     },
     "metadata": {},
     "output_type": "display_data"
    }
   ],
   "source": [
    "plt.scatter(df.Mean, df.StDev, c=df.label)"
   ]
  },
  {
   "cell_type": "code",
   "execution_count": 81,
   "metadata": {},
   "outputs": [
    {
     "name": "stdout",
     "output_type": "stream",
     "text": [
      "1000\n",
      "1000\n",
      "[-14. -13. -12. -11. -10.  -9.  -8.  -7.  -6.  -5.  -4.  -3.  -2.  -1.\n",
      "   0.   1.   2.   3.   4.   5.   6.   7.   8.   9.  10.  11.  12.  13.\n",
      "  14.  15.  18.  20.]\n",
      "[-23. -22. -21. -19. -18. -17. -16. -15. -14. -13. -12. -11. -10.  -9.\n",
      "  -8.  -7.  -6.  -5.  -4.  -3.  -2.  -1.   0.   1.   2.   3.   4.   5.\n",
      "   6.   7.   8.   9.  10.  11.  12.  13.  14.  15.  16.  17.  18.  19.\n",
      "  20.  21.  22.]\n"
     ]
    }
   ],
   "source": [
    "print(len(result_mean))\n",
    "print(len(result_mean_grad))\n",
    "\n",
    "\n",
    "print(np.unique(lap_neg[2]))\n",
    "print(np.unique(lap_pos[10]))\n"
   ]
  },
  {
   "cell_type": "code",
   "execution_count": 73,
   "metadata": {},
   "outputs": [
    {
     "data": {
      "text/html": [
       "<div>\n",
       "<style scoped>\n",
       "    .dataframe tbody tr th:only-of-type {\n",
       "        vertical-align: middle;\n",
       "    }\n",
       "\n",
       "    .dataframe tbody tr th {\n",
       "        vertical-align: top;\n",
       "    }\n",
       "\n",
       "    .dataframe thead th {\n",
       "        text-align: right;\n",
       "    }\n",
       "</style>\n",
       "<table border=\"1\" class=\"dataframe\">\n",
       "  <thead>\n",
       "    <tr style=\"text-align: right;\">\n",
       "      <th></th>\n",
       "      <th>GMean</th>\n",
       "      <th>GStDev</th>\n",
       "      <th>label</th>\n",
       "    </tr>\n",
       "  </thead>\n",
       "  <tbody>\n",
       "    <tr>\n",
       "      <th>0</th>\n",
       "      <td>5.226091</td>\n",
       "      <td>6.462550</td>\n",
       "      <td>1.0</td>\n",
       "    </tr>\n",
       "    <tr>\n",
       "      <th>1</th>\n",
       "      <td>4.903305</td>\n",
       "      <td>5.925083</td>\n",
       "      <td>1.0</td>\n",
       "    </tr>\n",
       "    <tr>\n",
       "      <th>2</th>\n",
       "      <td>2.450651</td>\n",
       "      <td>4.223947</td>\n",
       "      <td>1.0</td>\n",
       "    </tr>\n",
       "    <tr>\n",
       "      <th>3</th>\n",
       "      <td>1.907999</td>\n",
       "      <td>4.097862</td>\n",
       "      <td>1.0</td>\n",
       "    </tr>\n",
       "    <tr>\n",
       "      <th>4</th>\n",
       "      <td>4.590909</td>\n",
       "      <td>5.267710</td>\n",
       "      <td>1.0</td>\n",
       "    </tr>\n",
       "  </tbody>\n",
       "</table>\n",
       "</div>"
      ],
      "text/plain": [
       "      GMean    GStDev  label\n",
       "0  5.226091  6.462550    1.0\n",
       "1  4.903305  5.925083    1.0\n",
       "2  2.450651  4.223947    1.0\n",
       "3  1.907999  4.097862    1.0\n",
       "4  4.590909  5.267710    1.0"
      ]
     },
     "execution_count": 73,
     "metadata": {},
     "output_type": "execute_result"
    }
   ],
   "source": [
    "# Create dataframe\n",
    "df = pd.DataFrame(np.column_stack([result_mean_grad, result_stdev_grad, labels]), \n",
    "                  index=range(SAMPLE_SIZE*2), \n",
    "                  columns=['GMean', 'GStDev', 'label']) \n",
    "\n",
    "df.head()"
   ]
  },
  {
   "cell_type": "code",
   "execution_count": 74,
   "metadata": {},
   "outputs": [
    {
     "data": {
      "text/plain": [
       "<matplotlib.collections.PathCollection at 0x182e92ac6a0>"
      ]
     },
     "execution_count": 74,
     "metadata": {},
     "output_type": "execute_result"
    },
    {
     "data": {
      "image/png": "[encoded data removed]",
      "text/plain": [
       "<Figure size 432x288 with 1 Axes>"
      ]
     },
     "metadata": {},
     "output_type": "display_data"
    }
   ],
   "source": [
    "plt.scatter(df.GMean, df.GStDev, c=df.label)"
   ]
  },
  {
   "cell_type": "code",
   "execution_count": null,
   "metadata": {},
   "outputs": [],
   "source": [
    "# Export to .csv\n",
    "df.to_csv('features_example.csv')"
   ]
  }
 ],
 "metadata": {
  "kernelspec": {
   "display_name": "Python 3",
   "language": "python",
   "name": "python3"
  },
  "language_info": {
   "codemirror_mode": {
    "name": "ipython",
    "version": 3
   },
   "file_extension": ".py",
   "mimetype": "text/x-python",
   "name": "python",
   "nbconvert_exporter": "python",
   "pygments_lexer": "ipython3",
   "version": "3.6.5"
  }
 },
 "nbformat": 4,
 "nbformat_minor": 2
}
